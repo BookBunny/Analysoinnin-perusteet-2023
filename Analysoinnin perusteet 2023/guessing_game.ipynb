{
 "cells": [
  {
   "cell_type": "code",
   "execution_count": 27,
   "metadata": {},
   "outputs": [
    {
     "name": "stdout",
     "output_type": "stream",
     "text": [
      "Congratulations! You guessed the name correctly in 2 attempts.\n"
     ]
    }
   ],
   "source": [
    "name = \"Elina\"\n",
    "\n",
    "guessed_correctly = False\n",
    "guess_count = 0\n",
    "\n",
    "while not guessed_correctly:\n",
    "        guess = input(\"Guess the name (or type 'quit' to exit): \")\n",
    "        guess_count += 1 \n",
    "#to ignore lower or uppercase\n",
    "        if guess.lower() == name.lower():\n",
    "            print(f\"Congratulations! You guessed the name correctly in {guess_count} attempts.\")\n",
    "            guessed_correctly = True\n",
    "        else:\n",
    "            decision = input(\"Sorry, that's not the correct name. Do you want to quit? (Type 'quit' to exit, or press any other key to continue): \")\n",
    "            if decision.lower() == 'quit' or decision.lower() == 'q':\n",
    "                print(\"Thanks for playing. The correct answer was:\", name)\n",
    "                break\n"
   ]
  },
  {
   "cell_type": "code",
   "execution_count": null,
   "metadata": {},
   "outputs": [],
   "source": []
  }
 ],
 "metadata": {
  "kernelspec": {
   "display_name": "Python 3",
   "language": "python",
   "name": "python3"
  },
  "language_info": {
   "codemirror_mode": {
    "name": "ipython",
    "version": 3
   },
   "file_extension": ".py",
   "mimetype": "text/x-python",
   "name": "python",
   "nbconvert_exporter": "python",
   "pygments_lexer": "ipython3",
   "version": "3.12.0"
  }
 },
 "nbformat": 4,
 "nbformat_minor": 2
}
