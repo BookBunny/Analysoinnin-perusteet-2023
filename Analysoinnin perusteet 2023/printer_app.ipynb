{
 "cells": [
  {
   "cell_type": "code",
   "execution_count": 27,
   "metadata": {},
   "outputs": [
    {
     "name": "stdout",
     "output_type": "stream",
     "text": [
      "Printer App\n",
      "This app is made by: Elina\n",
      "The value of number1 is 4\n",
      "The value of number2 is 7\n",
      "4 * 7 = 28\n",
      "4 + 7 = 11\n",
      "4 / 7 = 0.5714285714285714\n",
      "4 - 7 = -3\n"
     ]
    }
   ],
   "source": [
    "creator=\"Elina\" ; number1= 4 ; number2= 7\n",
    "multiplication = number1*number2\n",
    "addition = number1 + number2\n",
    "division = number1 / number2\n",
    "division = number1 / number2\n",
    "substraction = number1 - number2\n",
    "\n",
    "print(\"Printer App\")\n",
    "print(\"This app is made by: \" +creator)\n",
    "#print(number1)\n",
    "print(\"The value of number1 is \" +str(number1))\n",
    "print(\"The value of number2 is \" +str(number2))\n",
    "print(number1, \"*\", number2, \"=\", multiplication)\n",
    "print(number1, \"+\", number2, \"=\", addition)\n",
    "print(number1, \"/\", number2, \"=\", division)\n",
    "print(number1, \"-\", number2, \"=\", substraction)"
   ]
  },
  {
   "cell_type": "code",
   "execution_count": null,
   "metadata": {},
   "outputs": [],
   "source": []
  }
 ],
 "metadata": {
  "kernelspec": {
   "display_name": "Python 3",
   "language": "python",
   "name": "python3"
  },
  "language_info": {
   "codemirror_mode": {
    "name": "ipython",
    "version": 3
   },
   "file_extension": ".py",
   "mimetype": "text/x-python",
   "name": "python",
   "nbconvert_exporter": "python",
   "pygments_lexer": "ipython3",
   "version": "3.12.0"
  }
 },
 "nbformat": 4,
 "nbformat_minor": 2
}
