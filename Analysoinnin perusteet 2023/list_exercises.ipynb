{
 "cells": [
  {
   "cell_type": "code",
   "execution_count": 21,
   "metadata": {},
   "outputs": [
    {
     "name": "stdout",
     "output_type": "stream",
     "text": [
      "['chair', 'table', 'armoire', 'desk']\n",
      "['chair', 'table']\n",
      "Chair\n"
     ]
    }
   ],
   "source": [
    "#exercise 1\n",
    "\n",
    "furniture_list = [\"chair\", \"table\", \"armoire\", \"desk\"]\n",
    "print(furniture_list)\n",
    "\n",
    "#print first two items on the list\n",
    "N=2\n",
    "res=furniture_list[:N]\n",
    "print(str(res))\n",
    "\n",
    "if \"chair\" in furniture_list:\n",
    "    print(\"Chair\")\n",
    "else:\n",
    "    print(\"Not found\")\n"
   ]
  },
  {
   "cell_type": "code",
   "execution_count": 72,
   "metadata": {},
   "outputs": [
    {
     "name": "stdout",
     "output_type": "stream",
     "text": [
      "[16, 5, 13, 21, 29]\n",
      "84\n",
      "29\n"
     ]
    }
   ],
   "source": [
    "#exercise 2\n",
    "\n",
    "import random\n",
    "\n",
    "thrownDiceNumbers = []\n",
    "for i in range(0,5):\n",
    "    n = random.randint(1,30)\n",
    "    if n not in thrownDiceNumbers:\n",
    "        thrownDiceNumbers.append(n)\n",
    "   #how to still get 5 numbers if one or more of them are repeats??\n",
    "    #if n in thrownDiceNumbers:\n",
    "     #   n = random.randint(1,30) \n",
    "print(thrownDiceNumbers)\n",
    "#counts the sum of items in the list\n",
    "print(sum(thrownDiceNumbers))\n",
    "#prints the biggest number\n",
    "print(max(thrownDiceNumbers))"
   ]
  }
 ],
 "metadata": {
  "kernelspec": {
   "display_name": "Python 3",
   "language": "python",
   "name": "python3"
  },
  "language_info": {
   "codemirror_mode": {
    "name": "ipython",
    "version": 3
   },
   "file_extension": ".py",
   "mimetype": "text/x-python",
   "name": "python",
   "nbconvert_exporter": "python",
   "pygments_lexer": "ipython3",
   "version": "3.12.0"
  }
 },
 "nbformat": 4,
 "nbformat_minor": 2
}
