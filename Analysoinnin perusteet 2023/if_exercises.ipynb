{
 "cells": [
  {
   "cell_type": "code",
   "execution_count": 36,
   "metadata": {},
   "outputs": [
    {
     "name": "stdout",
     "output_type": "stream",
     "text": [
      "Number1 is greater than number2\n"
     ]
    }
   ],
   "source": [
    "number1= 3 ; number2= 2\n",
    "\n",
    "if number1 == number2:\n",
    "    print(\"Numbers are equal\")\n",
    "elif number1 > number2:\n",
    "    print(\"Number1 is greater than number2\")\n"
   ]
  },
  {
   "cell_type": "code",
   "execution_count": 37,
   "metadata": {},
   "outputs": [
    {
     "name": "stdout",
     "output_type": "stream",
     "text": [
      "Number1 is greater or equal to number2\n"
     ]
    }
   ],
   "source": [
    "if number1 >= number2:\n",
    "    print(\"Number1 is greater or equal to number2\")"
   ]
  },
  {
   "cell_type": "code",
   "execution_count": 12,
   "metadata": {},
   "outputs": [
    {
     "name": "stdout",
     "output_type": "stream",
     "text": [
      "Number1 is not equal to number2\n"
     ]
    }
   ],
   "source": [
    "if number1 != number2:\n",
    "    print(\"Number1 is not equal to number2\")"
   ]
  },
  {
   "cell_type": "code",
   "execution_count": 17,
   "metadata": {},
   "outputs": [
    {
     "name": "stdout",
     "output_type": "stream",
     "text": [
      "Numbers are equal\n"
     ]
    }
   ],
   "source": [
    "number1 = 1; number2 = 1 ; number3 = 1\n",
    "\n",
    "if number1 == number2 == number3:\n",
    "    print(\"Numbers are equal\")"
   ]
  },
  {
   "cell_type": "code",
   "execution_count": 22,
   "metadata": {},
   "outputs": [
    {
     "name": "stdout",
     "output_type": "stream",
     "text": [
      "Number1 and number2 are equalvor number2 and number3 are equal\n"
     ]
    }
   ],
   "source": [
    "number1 = 1; number2 = 2 ; number3 = 2\n",
    "\n",
    "if number1 == number2 or number2 == number3:\n",
    "    print(\"Number1 and number2 are equalvor number2 and number3 are equal\")\n"
   ]
  },
  {
   "cell_type": "code",
   "execution_count": 24,
   "metadata": {},
   "outputs": [
    {
     "name": "stdout",
     "output_type": "stream",
     "text": [
      "Number1 is bigger than number2 and number3\n"
     ]
    }
   ],
   "source": [
    "number1 = 5; number2 = 2 ; number3 = 2\n",
    "\n",
    "if number1 > number2 and number1 > number3:\n",
    "    print(\"Number1 is bigger than number2 and number3\")"
   ]
  },
  {
   "cell_type": "code",
   "execution_count": 26,
   "metadata": {},
   "outputs": [
    {
     "name": "stdout",
     "output_type": "stream",
     "text": [
      "Number2 is bigger than number3\n"
     ]
    }
   ],
   "source": [
    "number1 = 1; number2 = 5 ; number3 = 2\n",
    "\n",
    "if number1 > number2:\n",
    "    print(\"Number1 is bigger than number2\")\n",
    "elif number2 > number3:\n",
    "    print(\"Number2 is bigger than number3\")"
   ]
  },
  {
   "cell_type": "code",
   "execution_count": 28,
   "metadata": {},
   "outputs": [
    {
     "name": "stdout",
     "output_type": "stream",
     "text": [
      "Number1 and number3 are equal.\n"
     ]
    }
   ],
   "source": [
    "number1 = 1; number2 = 2 ; number3 = 1\n",
    "\n",
    "if number1 == number2:\n",
    "    print(\"Number1 and number2 are equal.\")\n",
    "elif number1 == number3:\n",
    "    print(\"Number1 and number3 are equal.\")"
   ]
  },
  {
   "cell_type": "code",
   "execution_count": 35,
   "metadata": {},
   "outputs": [
    {
     "name": "stdout",
     "output_type": "stream",
     "text": [
      "Name1 and name3 are equal\n",
      "Names are not the same\n"
     ]
    }
   ],
   "source": [
    "name1 = \"Pedro\" ; name2 = \"Pedrito\" ; name3 = \"Pedro\"\n",
    "\n",
    "if name1 == name2:\n",
    "    print(\"The names are the same\")\n",
    "elif name1 == name3:\n",
    "    print(\"Name1 and name3 are equal\")\n",
    "\n",
    "if name1 != name2:\n",
    "    print(\"Names are not the same\")\n"
   ]
  },
  {
   "cell_type": "code",
   "execution_count": null,
   "metadata": {},
   "outputs": [],
   "source": []
  }
 ],
 "metadata": {
  "kernelspec": {
   "display_name": "Python 3",
   "language": "python",
   "name": "python3"
  },
  "language_info": {
   "codemirror_mode": {
    "name": "ipython",
    "version": 3
   },
   "file_extension": ".py",
   "mimetype": "text/x-python",
   "name": "python",
   "nbconvert_exporter": "python",
   "pygments_lexer": "ipython3",
   "version": "3.12.0"
  }
 },
 "nbformat": 4,
 "nbformat_minor": 2
}
